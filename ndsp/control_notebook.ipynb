{
 "cells": [
  {
   "cell_type": "markdown",
   "metadata": {},
   "source": [
    "Notebook for sending commands to shutter. Just create the client whenever the RP2040 realods or gets reset."
   ]
  },
  {
   "cell_type": "code",
   "execution_count": 57,
   "metadata": {},
   "outputs": [],
   "source": [
    "from sipyco.pc_rpc import Client\n",
    "import numpy"
   ]
  },
  {
   "cell_type": "code",
   "execution_count": 977,
   "metadata": {},
   "outputs": [],
   "source": [
    "shutter = Client('192.168.5.231', 3483)"
   ]
  },
  {
   "cell_type": "code",
   "execution_count": 982,
   "metadata": {},
   "outputs": [],
   "source": [
    "shutter.open()"
   ]
  },
  {
   "cell_type": "code",
   "execution_count": 983,
   "metadata": {},
   "outputs": [],
   "source": [
    "shutter.close()"
   ]
  },
  {
   "cell_type": "code",
   "execution_count": 979,
   "metadata": {
    "scrolled": true
   },
   "outputs": [],
   "source": [
    "shutter.reload()"
   ]
  },
  {
   "cell_type": "code",
   "execution_count": 973,
   "metadata": {},
   "outputs": [],
   "source": [
    "shutter.oscillate()"
   ]
  },
  {
   "cell_type": "code",
   "execution_count": 978,
   "metadata": {},
   "outputs": [],
   "source": [
    "shutter.kill()"
   ]
  },
  {
   "cell_type": "code",
   "execution_count": 986,
   "metadata": {},
   "outputs": [],
   "source": [
    "shutter.read_value()"
   ]
  },
  {
   "cell_type": "code",
   "execution_count": 987,
   "metadata": {},
   "outputs": [],
   "source": [
    "shutter.log()"
   ]
  },
  {
   "cell_type": "code",
   "execution_count": 423,
   "metadata": {},
   "outputs": [],
   "source": [
    "shutter.help()"
   ]
  },
  {
   "cell_type": "code",
   "execution_count": 441,
   "metadata": {},
   "outputs": [],
   "source": [
    "# write last data frame to this path (for statistics)\n",
    "shutter.write(\"/home/quanta/Documents/phineas/data.txt\")"
   ]
  },
  {
   "cell_type": "code",
   "execution_count": 442,
   "metadata": {},
   "outputs": [
    {
     "name": "stdout",
     "output_type": "stream",
     "text": [
      "average across all: 786.09375\n",
      "stdev across all: 0.9823898981800562\n"
     ]
    }
   ],
   "source": [
    "with open('/home/quanta/Documents/phineas/data.txt', 'r') as f:\n",
    "    averages = []\n",
    "    stdevs = []\n",
    "    \n",
    "    for line in f.readlines():\n",
    "        # print(line.split(': ')[1].strip()[1:-1])\n",
    "        data = [int(i) for i in line.split(': ')[1].strip()[1:-1].split(', ')]\n",
    "        arr = numpy.array(data)\n",
    "        \n",
    "        #print(f'avg: {arr.mean()}, std: {arr.std()}, len: {len(arr)}')\n",
    "        \n",
    "        averages.append(arr.mean())\n",
    "        stdevs.append(arr.std())\n",
    "        \n",
    "    print(f'average across all: {sum(averages)/len(averages)}')\n",
    "    print(f'stdev across all: {sum(stdevs)/len(stdevs)}')\n",
    "\n",
    "clear = True\n",
    "if clear:\n",
    "    with open('/home/quanta/Documents/phineas/data.txt', 'w') as f:\n",
    "        f.write('')"
   ]
  }
 ],
 "metadata": {
  "kernelspec": {
   "display_name": "Python 3",
   "language": "python",
   "name": "python3"
  },
  "language_info": {
   "codemirror_mode": {
    "name": "ipython",
    "version": 3
   },
   "file_extension": ".py",
   "mimetype": "text/x-python",
   "name": "python",
   "nbconvert_exporter": "python",
   "pygments_lexer": "ipython3",
   "version": "3.8.3"
  }
 },
 "nbformat": 4,
 "nbformat_minor": 4
}
