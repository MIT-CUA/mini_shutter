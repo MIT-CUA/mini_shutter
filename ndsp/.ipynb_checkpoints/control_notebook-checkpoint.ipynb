{
 "cells": [
  {
   "cell_type": "markdown",
   "metadata": {},
   "source": [
    "Notebook for sending commands to shutter. Just create the client whenever the RP2040 realods or gets reset."
   ]
  },
  {
   "cell_type": "code",
   "execution_count": 26,
   "metadata": {},
   "outputs": [],
   "source": [
    "from sipyco.pc_rpc import Client\n",
    "import numpy"
   ]
  },
  {
   "cell_type": "code",
   "execution_count": 108,
   "metadata": {},
   "outputs": [],
   "source": [
    "shutter = Client('192.168.5.231', 3482)"
   ]
  },
  {
   "cell_type": "code",
   "execution_count": 116,
   "metadata": {},
   "outputs": [],
   "source": [
    "shutter.open()"
   ]
  },
  {
   "cell_type": "code",
   "execution_count": 115,
   "metadata": {},
   "outputs": [],
   "source": [
    "shutter.close()"
   ]
  },
  {
   "cell_type": "code",
   "execution_count": 106,
   "metadata": {
    "scrolled": true
   },
   "outputs": [],
   "source": [
    "shutter.reload()"
   ]
  },
  {
   "cell_type": "code",
   "execution_count": 113,
   "metadata": {},
   "outputs": [],
   "source": [
    "shutter.read_value()"
   ]
  },
  {
   "cell_type": "code",
   "execution_count": 114,
   "metadata": {},
   "outputs": [],
   "source": [
    "shutter.oscillate()"
   ]
  },
  {
   "cell_type": "code",
   "execution_count": null,
   "metadata": {},
   "outputs": [],
   "source": [
    "shutter.kill_program()"
   ]
  },
  {
   "cell_type": "code",
   "execution_count": 765,
   "metadata": {},
   "outputs": [],
   "source": [
    "# write last data frame to this path (for statistics)\n",
    "shutter.write(\"/home/quanta/Documents/phineas/data.txt\")"
   ]
  },
  {
   "cell_type": "code",
   "execution_count": 100,
   "metadata": {},
   "outputs": [],
   "source": [
    "# length, mean, and standard deviation\n",
    "shutter.stats()"
   ]
  },
  {
   "cell_type": "code",
   "execution_count": 767,
   "metadata": {},
   "outputs": [
    {
     "name": "stdout",
     "output_type": "stream",
     "text": [
      "avg: 32752.0, std: 0.0, len: 64\n",
      "average across all: 32752.0\n",
      "stdev across all: 0.0\n"
     ]
    }
   ],
   "source": [
    "with open('/home/quanta/Documents/phineas/data.txt', 'r') as f:\n",
    "    averages = []\n",
    "    stdevs = []\n",
    "    \n",
    "    for line in f.readlines():\n",
    "        # print(line.split(': ')[1].strip()[1:-1])\n",
    "        data = [int(i) for i in line.split(': ')[1].strip()[1:-1].split(', ')]\n",
    "        arr = numpy.array(data)\n",
    "        \n",
    "        print(f'avg: {arr.mean()}, std: {arr.std()}, len: {len(arr)}')\n",
    "        \n",
    "        averages.append(arr.mean())\n",
    "        stdevs.append(arr.std())\n",
    "        \n",
    "    print(f'average across all: {sum(averages)/len(averages)}')\n",
    "    print(f'stdev across all: {sum(stdevs)/len(stdevs)}')\n"
   ]
  }
 ],
 "metadata": {
  "kernelspec": {
   "display_name": "Python 3",
   "language": "python",
   "name": "python3"
  },
  "language_info": {
   "codemirror_mode": {
    "name": "ipython",
    "version": 3
   },
   "file_extension": ".py",
   "mimetype": "text/x-python",
   "name": "python",
   "nbconvert_exporter": "python",
   "pygments_lexer": "ipython3",
   "version": "3.8.3"
  }
 },
 "nbformat": 4,
 "nbformat_minor": 4
}
